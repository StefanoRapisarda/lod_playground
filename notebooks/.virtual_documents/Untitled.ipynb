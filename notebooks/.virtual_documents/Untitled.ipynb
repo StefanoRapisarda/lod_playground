


# Initialising variables with words
name = "Stefano"
surname = "Rapisarda"

# Initialising variables with numbers
age = 25

# Initialising variables with result of operations
full_name = name + ' ' + surname

# Initialising variables with list of items
hobbies = ["music","photography","cooking","yoyoing"]





# Using a function with a single argument
print(full_name)


# Using a functions that returns a result
len(hobbies)


# Storing the result of a function into a variable. Using that variable as parameter for another function
n_hobbies = len(hobbies)
print('Stefano has',len(hobbies),'hobbies')





# Loop demonstration
for step in range(0,10):
    print(step)





# Operations inside and ourside the for loop
print("Stefano's hobbies:")
print('-'*30)
for i in range(len(hobbies)):
    print(hobbies[i])
print('-'*30)





for i in range(len(hobbies)):
    hobby = hobbies[i]
    if hobby == "music":
        print(hobby, " -> Wow, I also like music!")
    else:
        print(hobby, " -> Oh, I don't really like this hobby")





# Importing the library into python
import pandas as pd





# A simple solution
df_missing = pd.read_csv("../data/library_employees.csv")
df_cleaned =  df_missing.copy()
for index in df_missing.index:
    for column in df_missing.columns:
        value = df_missing.loc[index,column]
        if pd.isna(value):
            df_cleaned.loc[index,column] = "unknown"
df_cleaned
#df_cleaned.to_csv("library_employees_clean.csv", index=False)


# A PRO solution
df_missing = pd.read_csv("../data/library_employees.csv")
df_cleaned = df_missing.fillna("unknown")
#df_cleaned.to_csv("library_employees_with_missing.csv", index=False)
df_cleaned






